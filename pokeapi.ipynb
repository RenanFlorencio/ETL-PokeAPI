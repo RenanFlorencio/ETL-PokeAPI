{
 "cells": [
  {
   "cell_type": "markdown",
   "metadata": {},
   "source": [
    "# PokeAPI ETL"
   ]
  },
  {
   "cell_type": "markdown",
   "metadata": {},
   "source": [
    "The main objective here is to be able to provide a list of pokemon and get their types into a CSV."
   ]
  },
  {
   "cell_type": "markdown",
   "metadata": {},
   "source": [
    "First, setting up the API url and importing libraries required."
   ]
  },
  {
   "cell_type": "code",
   "execution_count": 36,
   "metadata": {},
   "outputs": [],
   "source": [
    "import requests\n",
    "import json\n",
    "import csv\n",
    "\n",
    "pokeapi_url = \"https://pokeapi.co/api/v2/\""
   ]
  },
  {
   "cell_type": "markdown",
   "metadata": {},
   "source": [
    "## Extract"
   ]
  },
  {
   "cell_type": "markdown",
   "metadata": {},
   "source": [
    "Here we are just going to consume the API to give us a bunch of information about the pokemon we are interested."
   ]
  },
  {
   "cell_type": "code",
   "execution_count": 76,
   "metadata": {},
   "outputs": [],
   "source": [
    "pokemon_names = input().split(\", \") # Later change this to an input\n",
    "for i in range(len(pokemon_names)):\n",
    "    pokemon_names[i] = pokemon_names[i].lower()"
   ]
  },
  {
   "cell_type": "code",
   "execution_count": 77,
   "metadata": {},
   "outputs": [],
   "source": [
    "def req_pokemon(pokemon_name):\n",
    "    response = requests.get(f'{pokeapi_url}/pokemon/{pokemon_name}') \n",
    "    return response.json() if response.status_code == 200 else None\n",
    "\n",
    "infos = []\n",
    "for pok in pokemon_names:\n",
    "    response = req_pokemon(pok)\n",
    "    if response != None:\n",
    "        infos.append(response)"
   ]
  },
  {
   "cell_type": "markdown",
   "metadata": {},
   "source": [
    "## Transform"
   ]
  },
  {
   "cell_type": "markdown",
   "metadata": {},
   "source": [
    "Now we have to filter out the types of the pokemon and place them into a dictionary."
   ]
  },
  {
   "cell_type": "markdown",
   "metadata": {},
   "source": [
    "Visualizing the data we are going to load"
   ]
  },
  {
   "cell_type": "code",
   "execution_count": 78,
   "metadata": {},
   "outputs": [
    {
     "name": "stdout",
     "output_type": "stream",
     "text": [
      "0: Pikachu\n",
      " - Type 1: electric\n",
      "\n",
      "1: Gengar\n",
      " - Type 1: ghost\n",
      " - Type 2: poison\n",
      "\n",
      "2: Gastly\n",
      " - Type 1: ghost\n",
      " - Type 2: poison\n",
      "\n"
     ]
    }
   ],
   "source": [
    "for i in range(len(infos)):\n",
    "    print(f'{i + 1}: {infos[i][\"name\"].capitalize()}')\n",
    "    for j in range(len(infos[i]['types'])):\n",
    "        print(f\" - Type {j + 1}:\", end=' ')\n",
    "        print(json.dumps(infos[i]['types'][j]['type']['name']).strip('\"'))\n",
    "    print()"
   ]
  },
  {
   "cell_type": "markdown",
   "metadata": {},
   "source": [
    "Storing the data in a way that is going to be easier to represent as a CSV file."
   ]
  },
  {
   "cell_type": "code",
   "execution_count": 79,
   "metadata": {},
   "outputs": [
    {
     "name": "stdout",
     "output_type": "stream",
     "text": [
      "[['Pikachu', 'electric', 'NA'], ['Gengar', 'ghost', 'poison'], ['Gastly', 'ghost', 'poison']]\n"
     ]
    }
   ],
   "source": [
    "poke_types = []\n",
    "types = []\n",
    "for i in range(len(infos)):\n",
    "    types.clear()\n",
    "    types.append(infos[i]['name'].capitalize())\n",
    "    for j in range(len(infos[i]['types'])):\n",
    "        types.append(json.dumps(infos[i]['types'][j]['type']['name']).strip('\"'))\n",
    "\n",
    "    if len(types) < 3:\n",
    "        types.append(\"NA\")\n",
    "    poke_types.append(types.copy())\n",
    "\n",
    "print(poke_types)"
   ]
  },
  {
   "cell_type": "markdown",
   "metadata": {},
   "source": [
    "## Load"
   ]
  },
  {
   "cell_type": "markdown",
   "metadata": {},
   "source": [
    "Finnaly, we have to load this information into a CSV file."
   ]
  },
  {
   "cell_type": "code",
   "execution_count": 80,
   "metadata": {},
   "outputs": [],
   "source": [
    "header = ['Pokemon', 'Type 1', 'Type 2']\n",
    "\n",
    "with open(\"pokemon_types.csv\", 'w', newline='') as file:\n",
    "    writer = csv.writer(file)\n",
    "    writer.writerow(header)\n",
    "    for i in range(len(poke_types)):\n",
    "        writer.writerow(poke_types[i])"
   ]
  }
 ],
 "metadata": {
  "kernelspec": {
   "display_name": "Python 3",
   "language": "python",
   "name": "python3"
  },
  "language_info": {
   "codemirror_mode": {
    "name": "ipython",
    "version": 3
   },
   "file_extension": ".py",
   "mimetype": "text/x-python",
   "name": "python",
   "nbconvert_exporter": "python",
   "pygments_lexer": "ipython3",
   "version": "3.11.1"
  }
 },
 "nbformat": 4,
 "nbformat_minor": 2
}
